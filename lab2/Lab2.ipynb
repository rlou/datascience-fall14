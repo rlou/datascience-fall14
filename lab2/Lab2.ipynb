{
 "metadata": {
  "name": "Lab2"
 },
 "nbformat": 3,
 "nbformat_minor": 0,
 "worksheets": [
  {
   "cells": [
    {
     "cell_type": "code",
     "collapsed": false,
     "input": "cd ~/datascience-fall14/lab2",
     "language": "python",
     "metadata": {},
     "outputs": [
      {
       "output_type": "stream",
       "stream": "stdout",
       "text": "/home/terrapin/datascience-fall14/lab2\n"
      }
     ],
     "prompt_number": 1
    },
    {
     "cell_type": "code",
     "collapsed": false,
     "input": "import pandas as pd\n\nplayers = pd.read_csv('players.csv')\ncountries = pd.read_csv('countries.csv')\nevents = pd.read_csv('events.csv')",
     "language": "python",
     "metadata": {},
     "outputs": [],
     "prompt_number": 2
    },
    {
     "cell_type": "code",
     "collapsed": false,
     "input": "s = players['name'].str.extract('^([AEIOU])').count()\n\nprint 'Number of players whose names start with vowels =', s",
     "language": "python",
     "metadata": {},
     "outputs": [
      {
       "output_type": "stream",
       "stream": "stdout",
       "text": "Number of players whose names start with vowels = 84\n"
      }
     ],
     "prompt_number": 3
    },
    {
     "cell_type": "code",
     "collapsed": false,
     "input": "usaplayers = players[players['country_id'] == 'USA']\n\nusaplayers[usaplayers['name'].str.contains(\"^A\")]\n",
     "language": "python",
     "metadata": {},
     "outputs": [
      {
       "html": "<div style=\"max-height:1000px;max-width:1500px;overflow:auto;\">\n<table border=\"1\" class=\"dataframe\">\n  <thead>\n    <tr style=\"text-align: right;\">\n      <th></th>\n      <th>name</th>\n      <th>player_id</th>\n      <th>country_id</th>\n      <th>birthdate</th>\n    </tr>\n  </thead>\n  <tbody>\n    <tr>\n      <th>1 </th>\n      <td> Aaron Peirsol                           </td>\n      <td> PEIRSAAR01</td>\n      <td> USA</td>\n      <td> 1978-08-26</td>\n    </tr>\n    <tr>\n      <th>3 </th>\n      <td> Adam Nelson                             </td>\n      <td> NELSOADA01</td>\n      <td> USA</td>\n      <td> 1984-10-13</td>\n    </tr>\n    <tr>\n      <th>15</th>\n      <td> Allyson Felix                           </td>\n      <td> FELIXALL01</td>\n      <td> USA</td>\n      <td> 1975-01-04</td>\n    </tr>\n    <tr>\n      <th>16</th>\n      <td> Alvin Harrison                          </td>\n      <td> HARRIALV01</td>\n      <td> USA</td>\n      <td> 1976-05-15</td>\n    </tr>\n    <tr>\n      <th>17</th>\n      <td> Amanda Beard                            </td>\n      <td> BEARDAMA01</td>\n      <td> USA</td>\n      <td> 1980-10-22</td>\n    </tr>\n    <tr>\n      <th>18</th>\n      <td> Amanda Weir                             </td>\n      <td> WEIRAMA01 </td>\n      <td> USA</td>\n      <td> 1979-01-09</td>\n    </tr>\n    <tr>\n      <th>19</th>\n      <td> Amy van Dyken                           </td>\n      <td> VANDYAMY01</td>\n      <td> USA</td>\n      <td> 1983-07-26</td>\n    </tr>\n    <tr>\n      <th>25</th>\n      <td> Angelo Taylor                           </td>\n      <td> TAYLOANG02</td>\n      <td> USA</td>\n      <td> 1974-08-24</td>\n    </tr>\n    <tr>\n      <th>30</th>\n      <td> Anthony Ervin                           </td>\n      <td> ERVINANT01</td>\n      <td> USA</td>\n      <td> 1972-02-14</td>\n    </tr>\n    <tr>\n      <th>32</th>\n      <td> Antonio Pettigrew                       </td>\n      <td> PETTIANT01</td>\n      <td> USA</td>\n      <td> 1976-03-21</td>\n    </tr>\n  </tbody>\n</table>\n<p>10 rows \u00d7 4 columns</p>\n</div>",
       "metadata": {},
       "output_type": "pyout",
       "prompt_number": 4,
       "text": "                                        name   player_id country_id  \\\n1   Aaron Peirsol                             PEIRSAAR01        USA   \n3   Adam Nelson                               NELSOADA01        USA   \n15  Allyson Felix                             FELIXALL01        USA   \n16  Alvin Harrison                            HARRIALV01        USA   \n17  Amanda Beard                              BEARDAMA01        USA   \n18  Amanda Weir                               WEIRAMA01         USA   \n19  Amy van Dyken                             VANDYAMY01        USA   \n25  Angelo Taylor                             TAYLOANG02        USA   \n30  Anthony Ervin                             ERVINANT01        USA   \n32  Antonio Pettigrew                         PETTIANT01        USA   \n\n     birthdate  \n1   1978-08-26  \n3   1984-10-13  \n15  1975-01-04  \n16  1976-05-15  \n17  1980-10-22  \n18  1979-01-09  \n19  1983-07-26  \n25  1974-08-24  \n30  1972-02-14  \n32  1976-03-21  \n\n[10 rows x 4 columns]"
      }
     ],
     "prompt_number": 4
    },
    {
     "cell_type": "code",
     "collapsed": false,
     "input": "pd.merge(players, countries, on='country_id', how='left')\n\nplayers.groupby('country_id').size()\n",
     "language": "python",
     "metadata": {},
     "outputs": [
      {
       "metadata": {},
       "output_type": "pyout",
       "prompt_number": 5,
       "text": "country_id\nALG            4\nARG            1\nAUS           34\nAUT            2\nBAH            5\nBAR            1\nBLR            7\nBRA            9\nBUL            1\nCAN            1\nCHN            8\nCMR            1\nCRC            1\nCRO            1\nCUB           12\nCZR            3\nDEN            2\nDOM            1\nERI            1\nESP            4\nEST            2\nETH           12\nFIN            1\nFRA           10\nGBR           12\nGER           22\nGRE            7\nHUN            4\nIRL            1\nISL            1\nITA           12\nJAM           18\nJPN           16\nKAZ            2\nKEN           13\nKSA            1\nLAT            2\nLTU            2\nMAR            5\nMEX            3\nMOZ            1\nNED           13\nNGR           12\nNOR            3\nPOL            5\nPOR            3\nROM           10\nRSA           10\nRUS           38\nSLO            1\nSRI            1\nSVK            1\nSWE            9\nTRI            2\nTUR            1\nUKR            9\nUSA           88\nZIM            1\nLength: 58, dtype: int64"
      }
     ],
     "prompt_number": 5
    },
    {
     "cell_type": "code",
     "collapsed": false,
     "input": "#select c.name, count(p.name)\n#from countries c left outer join players p on c.country_id = p.country_id and extract(year from p.birthdate) = 1975\n#group by c.name;\nplayers = pd.read_csv('players.csv')\ncountries = pd.read_csv('countries.csv')\n\nplayers['birthdate'] = players['birthdate'].str[:-6].astype(int)\n\ncountries = pd.merge(players, countries, how='left', on='country_id')\ncountries = countries[countries['birthdate']==1975]\ncountries\ncountries.groupby('name_y').size()",
     "language": "python",
     "metadata": {},
     "outputs": [
      {
       "metadata": {},
       "output_type": "pyout",
       "prompt_number": 6,
       "text": "name_y\nAustralia                                   3\nBelarus                                     1\nBrazil                                      1\nCuba                                        1\nCzech Republic                              1\nDenmark                                     1\nEritrea                                     1\nEstonia                                     1\nEthiopia                                    1\nGermany                                     1\nItaly                                       1\nJamaica                                     1\nJapan                                       3\nKazakhstan                                  1\nLithuania                                   1\nRomania                                     1\nSouth Africa                                4\nSweden                                      2\nUnited Kingdom                              1\nUnited States                               5\ndtype: int64"
      }
     ],
     "prompt_number": 6
    }
   ],
   "metadata": {}
  }
 ]
}
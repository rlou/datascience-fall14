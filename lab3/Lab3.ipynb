{
 "metadata": {
  "name": "Lab3"
 },
 "nbformat": 3,
 "nbformat_minor": 0,
 "worksheets": [
  {
   "cells": [
    {
     "cell_type": "code",
     "collapsed": false,
     "input": "# Import pandas and numpy\nimport pandas as pd\nimport numpy as np\n\n# Set some Pandas options\npd.set_option('display.notebook_repr_html', False)\npd.set_option('display.max_columns', 20)\npd.set_option('display.max_rows', 25)",
     "language": "python",
     "metadata": {},
     "outputs": [],
     "prompt_number": 1
    },
    {
     "cell_type": "code",
     "collapsed": false,
     "input": "cd ~/datascience-fall14/lab3",
     "language": "python",
     "metadata": {},
     "outputs": [
      {
       "output_type": "stream",
       "stream": "stdout",
       "text": "/home/terrapin/datascience-fall14/lab3\n"
      }
     ],
     "prompt_number": 2
    },
    {
     "cell_type": "code",
     "collapsed": false,
     "input": "cdystonia = pd.read_csv(\"data/cdystonia.csv\", index_col=None)\ncdystonia['twstrs'] = cdystonia['twstrs'].astype(np.float64)\ncdystonia.head()",
     "language": "python",
     "metadata": {},
     "outputs": [
      {
       "metadata": {},
       "output_type": "pyout",
       "prompt_number": 3,
       "text": "   patient  obs  week  site  id  treat  age sex  twstrs\n0        1    1     0     1   1  5000U   65   F      32\n1        1    2     2     1   1  5000U   65   F      30\n2        1    3     4     1   1  5000U   65   F      24\n3        1    4     8     1   1  5000U   65   F      37\n4        1    5    12     1   1  5000U   65   F      39\n\n[5 rows x 9 columns]"
      }
     ],
     "prompt_number": 3
    },
    {
     "cell_type": "code",
     "collapsed": false,
     "input": "cdystonia.treat.value_counts()",
     "language": "python",
     "metadata": {},
     "outputs": [
      {
       "metadata": {},
       "output_type": "pyout",
       "prompt_number": 4,
       "text": "10000U     213\n5000U      211\nPlacebo    207\ndtype: int64"
      }
     ],
     "prompt_number": 4
    },
    {
     "cell_type": "code",
     "collapsed": false,
     "input": "treat_map = {'Placebo': 0, '5000U': 1, '10000U': 2}",
     "language": "python",
     "metadata": {},
     "outputs": [],
     "prompt_number": 5
    },
    {
     "cell_type": "code",
     "collapsed": false,
     "input": "cdystonia['treatment'] = cdystonia.treat.replace({'Placebo':'0','5000U':'1','10000U':'2'})",
     "language": "python",
     "metadata": {},
     "outputs": [],
     "prompt_number": 6
    },
    {
     "cell_type": "code",
     "collapsed": false,
     "input": "cdystonia.head()",
     "language": "python",
     "metadata": {},
     "outputs": [
      {
       "metadata": {},
       "output_type": "pyout",
       "prompt_number": 7,
       "text": "   patient  obs  week  site  id  treat  age sex  twstrs treatment\n0        1    1     0     1   1  5000U   65   F      32         1\n1        1    2     2     1   1  5000U   65   F      30         1\n2        1    3     4     1   1  5000U   65   F      24         1\n3        1    4     8     1   1  5000U   65   F      37         1\n4        1    5    12     1   1  5000U   65   F      39         1\n\n[5 rows x 10 columns]"
      }
     ],
     "prompt_number": 7
    },
    {
     "cell_type": "code",
     "collapsed": false,
     "input": "cdystonia.age.describe()",
     "language": "python",
     "metadata": {},
     "outputs": [
      {
       "metadata": {},
       "output_type": "pyout",
       "prompt_number": 8,
       "text": "count    631.000000\nmean      55.616482\nstd       12.123910\nmin       26.000000\n25%       46.000000\n50%       56.000000\n75%       65.000000\nmax       83.000000\nName: age, dtype: float64"
      }
     ],
     "prompt_number": 8
    },
    {
     "cell_type": "code",
     "collapsed": false,
     "input": "cutOutput = pd.cut(cdystonia.age, [20, 40, 60, 80, 90])",
     "language": "python",
     "metadata": {},
     "outputs": [],
     "prompt_number": 9
    },
    {
     "cell_type": "code",
     "collapsed": false,
     "input": "cutOutput[:30]",
     "language": "python",
     "metadata": {},
     "outputs": [
      {
       "metadata": {},
       "output_type": "pyout",
       "prompt_number": 10,
       "text": " (60, 80]\n (60, 80]\n (60, 80]\n (60, 80]\n (60, 80]\n (60, 80]\n (60, 80]\n (60, 80]\n (60, 80]\n (60, 80]\n...\n (40, 60]\n (40, 60]\n (40, 60]\n (60, 80]\n (60, 80]\n (60, 80]\n (60, 80]\n (60, 80]\n (60, 80]\n (40, 60]\n (40, 60]\nLevels (4): Index(['(20, 40]', '(40, 60]', '(60, 80]', '(80, 90]'], dtype=object)\nLength: 30"
      }
     ],
     "prompt_number": 10
    },
    {
     "cell_type": "code",
     "collapsed": false,
     "input": "cutOutput = pd.cut(cdystonia.age, [20, 40, 60, 80, 90], labels=['young', 'middle-aged', 'old', 'ancient'])\ncdystonia['ageGroup'] = cutOutput",
     "language": "python",
     "metadata": {},
     "outputs": [],
     "prompt_number": 11
    },
    {
     "cell_type": "code",
     "collapsed": false,
     "input": "cdystonia.head()",
     "language": "python",
     "metadata": {},
     "outputs": [
      {
       "metadata": {},
       "output_type": "pyout",
       "prompt_number": 12,
       "text": "   patient  obs  week  site  id  treat  age sex  twstrs treatment ageGroup\n0        1    1     0     1   1  5000U   65   F      32         1      old\n1        1    2     2     1   1  5000U   65   F      30         1      old\n2        1    3     4     1   1  5000U   65   F      24         1      old\n3        1    4     8     1   1  5000U   65   F      37         1      old\n4        1    5    12     1   1  5000U   65   F      39         1      old\n\n[5 rows x 11 columns]"
      }
     ],
     "prompt_number": 12
    },
    {
     "cell_type": "code",
     "collapsed": false,
     "input": "cdystonia_group = cdystonia.groupby('patient')",
     "language": "python",
     "metadata": {},
     "outputs": [],
     "prompt_number": 13
    },
    {
     "cell_type": "code",
     "collapsed": false,
     "input": "patientMeanTwstrs = cdystonia_group['twstrs'].aggregate(np.mean)",
     "language": "python",
     "metadata": {},
     "outputs": [],
     "prompt_number": 14
    },
    {
     "cell_type": "code",
     "collapsed": false,
     "input": "patientMeanTwstrs.head()",
     "language": "python",
     "metadata": {},
     "outputs": [
      {
       "metadata": {},
       "output_type": "pyout",
       "prompt_number": 15,
       "text": "patient\n1          33.000000\n2          47.666667\n3          30.500000\n4          60.000000\n5          46.166667\nName: twstrs, dtype: float64"
      }
     ],
     "prompt_number": 15
    },
    {
     "cell_type": "code",
     "collapsed": false,
     "input": "zscore = lambda x: (x - x.mean())/x.std()\nnormalizedTWSTRS = cdystonia_group.twstrs.transform(zscore)",
     "language": "python",
     "metadata": {},
     "outputs": [],
     "prompt_number": 16
    },
    {
     "cell_type": "code",
     "collapsed": false,
     "input": "normalizedTWSTRS.head()",
     "language": "python",
     "metadata": {},
     "outputs": [
      {
       "metadata": {},
       "output_type": "pyout",
       "prompt_number": 17,
       "text": "0   -0.181369\n1   -0.544107\n2   -1.632322\n3    0.725476\n4    1.088214\nName: twstrs, dtype: float64"
      }
     ],
     "prompt_number": 17
    },
    {
     "cell_type": "code",
     "collapsed": false,
     "input": "",
     "language": "python",
     "metadata": {},
     "outputs": []
    }
   ],
   "metadata": {}
  }
 ]
}